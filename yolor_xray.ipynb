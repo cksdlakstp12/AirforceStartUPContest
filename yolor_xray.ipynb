{
  "nbformat": 4,
  "nbformat_minor": 0,
  "metadata": {
    "colab": {
      "name": "yolor_xray.ipynb",
      "provenance": [],
      "authorship_tag": "ABX9TyPpZHy7Kd3i0Ok4Kfm30ui2",
      "include_colab_link": true
    },
    "kernelspec": {
      "name": "python3",
      "display_name": "Python 3"
    },
    "language_info": {
      "name": "python"
    }
  },
  "cells": [
    {
      "cell_type": "markdown",
      "metadata": {
        "id": "view-in-github",
        "colab_type": "text"
      },
      "source": [
        "<a href=\"https://colab.research.google.com/github/cksdlakstp12/AirforceStartUPContest/blob/main/yolor_xray.ipynb\" target=\"_parent\"><img src=\"https://colab.research.google.com/assets/colab-badge.svg\" alt=\"Open In Colab\"/></a>"
      ]
    },
    {
      "cell_type": "code",
      "execution_count": null,
      "metadata": {
        "colab": {
          "base_uri": "https://localhost:8080/"
        },
        "id": "FJ4a1Ld9T4xL",
        "outputId": "e7bf4ec2-a013-4fcc-e61f-44ca9950d7bd"
      },
      "outputs": [
        {
          "output_type": "stream",
          "name": "stdout",
          "text": [
            "Cloning into 'yolor'...\n",
            "remote: Enumerating objects: 492, done.\u001b[K\n",
            "remote: Counting objects: 100% (3/3), done.\u001b[K\n",
            "remote: Compressing objects: 100% (3/3), done.\u001b[K\n",
            "remote: Total 492 (delta 0), reused 1 (delta 0), pack-reused 489\u001b[K\n",
            "Receiving objects: 100% (492/492), 3.43 MiB | 25.25 MiB/s, done.\n",
            "Resolving deltas: 100% (225/225), done.\n"
          ]
        }
      ],
      "source": [
        "!git clone https://github.com/WongKinYiu/yolor.git"
      ]
    },
    {
      "cell_type": "code",
      "source": [
        "!python train.py --batch-size 8 --img 1280 1280 --data coco.yaml --cfg cfg/yolor_p6.cfg --weights '' --device 0 --name yolor_p6 --hyp hyp.scratch.1280.yaml --epochs 300"
      ],
      "metadata": {
        "id": "dk8JXchFZtj2"
      },
      "execution_count": null,
      "outputs": []
    },
    {
      "cell_type": "code",
      "source": [
        ""
      ],
      "metadata": {
        "id": "aTL0a7xUZthk"
      },
      "execution_count": null,
      "outputs": []
    },
    {
      "cell_type": "code",
      "source": [
        ""
      ],
      "metadata": {
        "id": "r87ukPhEZtcz"
      },
      "execution_count": null,
      "outputs": []
    }
  ]
}